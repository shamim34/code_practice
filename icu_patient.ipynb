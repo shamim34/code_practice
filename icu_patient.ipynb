{
  "nbformat": 4,
  "nbformat_minor": 0,
  "metadata": {
    "colab": {
      "name": "icu_patient.ipynb",
      "provenance": [],
      "authorship_tag": "ABX9TyP6IJVBphUf7juc2+f5+72t",
      "include_colab_link": true
    },
    "kernelspec": {
      "name": "python3",
      "display_name": "Python 3"
    }
  },
  "cells": [
    {
      "cell_type": "markdown",
      "metadata": {
        "id": "view-in-github",
        "colab_type": "text"
      },
      "source": [
        "<a href=\"https://colab.research.google.com/github/shamim34/code_practice/blob/master/icu_patient.ipynb\" target=\"_parent\"><img src=\"https://colab.research.google.com/assets/colab-badge.svg\" alt=\"Open In Colab\"/></a>"
      ]
    },
    {
      "cell_type": "code",
      "metadata": {
        "id": "Ki_R1EmPKX9M",
        "colab_type": "code",
        "colab": {
          "base_uri": "https://localhost:8080/",
          "height": 122
        },
        "outputId": "92564ecd-0792-4a4e-c4ac-a5a89275290f"
      },
      "source": [
        "from google.colab import drive\n",
        "drive.mount('/content/drive/')"
      ],
      "execution_count": 1,
      "outputs": [
        {
          "output_type": "stream",
          "text": [
            "Go to this URL in a browser: https://accounts.google.com/o/oauth2/auth?client_id=947318989803-6bn6qk8qdgf4n4g3pfee6491hc0brc4i.apps.googleusercontent.com&redirect_uri=urn%3aietf%3awg%3aoauth%3a2.0%3aoob&response_type=code&scope=email%20https%3a%2f%2fwww.googleapis.com%2fauth%2fdocs.test%20https%3a%2f%2fwww.googleapis.com%2fauth%2fdrive%20https%3a%2f%2fwww.googleapis.com%2fauth%2fdrive.photos.readonly%20https%3a%2f%2fwww.googleapis.com%2fauth%2fpeopleapi.readonly\n",
            "\n",
            "Enter your authorization code:\n",
            "··········\n",
            "Mounted at /content/drive/\n"
          ],
          "name": "stdout"
        }
      ]
    },
    {
      "cell_type": "code",
      "metadata": {
        "id": "6AZdKr-CLuTn",
        "colab_type": "code",
        "colab": {
          "base_uri": "https://localhost:8080/",
          "height": 54
        },
        "outputId": "b3d22aa2-36c4-463e-f66c-f956e1c42009"
      },
      "source": [
        "from google.colab import drive\n",
        "drive.mount('/content/drive')"
      ],
      "execution_count": 2,
      "outputs": [
        {
          "output_type": "stream",
          "text": [
            "Drive already mounted at /content/drive; to attempt to forcibly remount, call drive.mount(\"/content/drive\", force_remount=True).\n"
          ],
          "name": "stdout"
        }
      ]
    },
    {
      "cell_type": "code",
      "metadata": {
        "id": "7Fw0aB7YL4Zg",
        "colab_type": "code",
        "colab": {}
      },
      "source": [
        "import numpy as np\n",
        "import pandas as pd\n",
        "import matplotlib.pyplot as plt\n",
        "%matplotlib inline\n"
      ],
      "execution_count": 0,
      "outputs": []
    },
    {
      "cell_type": "code",
      "metadata": {
        "id": "j9eRUR0IL-CJ",
        "colab_type": "code",
        "colab": {}
      },
      "source": [
        "import os"
      ],
      "execution_count": 0,
      "outputs": []
    },
    {
      "cell_type": "code",
      "metadata": {
        "id": "gOcjtWHkMBdv",
        "colab_type": "code",
        "colab": {
          "base_uri": "https://localhost:8080/",
          "height": 394
        },
        "outputId": "b4025aac-c969-4c66-e6e9-fe79735ef6ff"
      },
      "source": [
        "!pip install \"tensorflow>=1.15,<2.0\""
      ],
      "execution_count": 5,
      "outputs": [
        {
          "output_type": "stream",
          "text": [
            "Requirement already satisfied: tensorflow<2.0,>=1.15 in /usr/local/lib/python3.6/dist-packages (1.15.0)\n",
            "Requirement already satisfied: tensorboard<1.16.0,>=1.15.0 in /usr/local/lib/python3.6/dist-packages (from tensorflow<2.0,>=1.15) (1.15.0)\n",
            "Requirement already satisfied: tensorflow-estimator==1.15.1 in /usr/local/lib/python3.6/dist-packages (from tensorflow<2.0,>=1.15) (1.15.1)\n",
            "Requirement already satisfied: termcolor>=1.1.0 in /usr/local/lib/python3.6/dist-packages (from tensorflow<2.0,>=1.15) (1.1.0)\n",
            "Requirement already satisfied: grpcio>=1.8.6 in /usr/local/lib/python3.6/dist-packages (from tensorflow<2.0,>=1.15) (1.15.0)\n",
            "Requirement already satisfied: gast==0.2.2 in /usr/local/lib/python3.6/dist-packages (from tensorflow<2.0,>=1.15) (0.2.2)\n",
            "Requirement already satisfied: google-pasta>=0.1.6 in /usr/local/lib/python3.6/dist-packages (from tensorflow<2.0,>=1.15) (0.1.8)\n",
            "Requirement already satisfied: wrapt>=1.11.1 in /usr/local/lib/python3.6/dist-packages (from tensorflow<2.0,>=1.15) (1.11.2)\n",
            "Requirement already satisfied: astor>=0.6.0 in /usr/local/lib/python3.6/dist-packages (from tensorflow<2.0,>=1.15) (0.8.1)\n",
            "Requirement already satisfied: six>=1.10.0 in /usr/local/lib/python3.6/dist-packages (from tensorflow<2.0,>=1.15) (1.12.0)\n",
            "Requirement already satisfied: wheel>=0.26 in /usr/local/lib/python3.6/dist-packages (from tensorflow<2.0,>=1.15) (0.33.6)\n",
            "Requirement already satisfied: numpy<2.0,>=1.16.0 in /usr/local/lib/python3.6/dist-packages (from tensorflow<2.0,>=1.15) (1.17.5)\n",
            "Requirement already satisfied: absl-py>=0.7.0 in /usr/local/lib/python3.6/dist-packages (from tensorflow<2.0,>=1.15) (0.9.0)\n",
            "Requirement already satisfied: keras-preprocessing>=1.0.5 in /usr/local/lib/python3.6/dist-packages (from tensorflow<2.0,>=1.15) (1.1.0)\n",
            "Requirement already satisfied: opt-einsum>=2.3.2 in /usr/local/lib/python3.6/dist-packages (from tensorflow<2.0,>=1.15) (3.1.0)\n",
            "Requirement already satisfied: protobuf>=3.6.1 in /usr/local/lib/python3.6/dist-packages (from tensorflow<2.0,>=1.15) (3.10.0)\n",
            "Requirement already satisfied: keras-applications>=1.0.8 in /usr/local/lib/python3.6/dist-packages (from tensorflow<2.0,>=1.15) (1.0.8)\n",
            "Requirement already satisfied: setuptools>=41.0.0 in /usr/local/lib/python3.6/dist-packages (from tensorboard<1.16.0,>=1.15.0->tensorflow<2.0,>=1.15) (42.0.2)\n",
            "Requirement already satisfied: werkzeug>=0.11.15 in /usr/local/lib/python3.6/dist-packages (from tensorboard<1.16.0,>=1.15.0->tensorflow<2.0,>=1.15) (0.16.0)\n",
            "Requirement already satisfied: markdown>=2.6.8 in /usr/local/lib/python3.6/dist-packages (from tensorboard<1.16.0,>=1.15.0->tensorflow<2.0,>=1.15) (3.1.1)\n",
            "Requirement already satisfied: h5py in /usr/local/lib/python3.6/dist-packages (from keras-applications>=1.0.8->tensorflow<2.0,>=1.15) (2.8.0)\n"
          ],
          "name": "stdout"
        }
      ]
    },
    {
      "cell_type": "code",
      "metadata": {
        "id": "lKWhl2d7Mc9a",
        "colab_type": "code",
        "colab": {}
      },
      "source": [
        "import os\n",
        "os.chdir('drive/My Drive/Colab Notebooks/')"
      ],
      "execution_count": 0,
      "outputs": []
    },
    {
      "cell_type": "code",
      "metadata": {
        "id": "abNHtZ4PMgF5",
        "colab_type": "code",
        "colab": {}
      },
      "source": [
        "data_directory = 'data/'\n",
        "data = []\n",
        "for file in os.listdir(data_directory):\n",
        "    if(str(file).split('.')[1] == 'csv'):\n",
        "        reader = pd.read_csv(os.path.join(data_directory,file))\n",
        "        reader = reader.dropna()\n",
        "        data.append(reader.iloc[:,1:5].values.astype('float32'))\n",
        "        "
      ],
      "execution_count": 0,
      "outputs": []
    },
    {
      "cell_type": "code",
      "metadata": {
        "id": "27FaEOMONQ6Z",
        "colab_type": "code",
        "colab": {
          "base_uri": "https://localhost:8080/",
          "height": 272
        },
        "outputId": "5dc79f6a-d494-4fc0-9771-d19305813182"
      },
      "source": [
        "sz = []\n",
        "sz.append(len(data[0]))\n",
        "dat= data[0]\n",
        "for i in range(1,len(data)):\n",
        "    sz.append(len(data[i]))\n",
        "    dat = np.vstack((dat,data[i]))\n",
        "    print(dat.shape, sz[i])"
      ],
      "execution_count": 10,
      "outputs": [
        {
          "output_type": "stream",
          "text": [
            "(96, 4) 24\n",
            "(144, 4) 48\n",
            "(168, 4) 24\n",
            "(192, 4) 24\n",
            "(240, 4) 48\n",
            "(288, 4) 48\n",
            "(360, 4) 72\n",
            "(408, 4) 48\n",
            "(432, 4) 24\n",
            "(456, 4) 24\n",
            "(480, 4) 24\n",
            "(504, 4) 24\n",
            "(600, 4) 96\n",
            "(648, 4) 48\n",
            "(672, 4) 24\n"
          ],
          "name": "stdout"
        }
      ]
    },
    {
      "cell_type": "code",
      "metadata": {
        "id": "dQVVBGCvNUUy",
        "colab_type": "code",
        "colab": {}
      },
      "source": [
        "\n",
        "from sklearn.preprocessing import MinMaxScaler\n",
        "sc= MinMaxScaler(feature_range=(0,1))\n",
        "dat[:] = sc.fit_transform(dat[:])"
      ],
      "execution_count": 0,
      "outputs": []
    },
    {
      "cell_type": "code",
      "metadata": {
        "id": "0NOxhdFRNZY7",
        "colab_type": "code",
        "colab": {}
      },
      "source": [
        "final_data = []\n",
        "koto = 0\n",
        "for i in sz:\n",
        "    final_data.append(dat[koto: koto + i])\n",
        "    koto += i\n",
        "    "
      ],
      "execution_count": 0,
      "outputs": []
    },
    {
      "cell_type": "code",
      "metadata": {
        "id": "NrOVVMnINdZR",
        "colab_type": "code",
        "colab": {}
      },
      "source": [
        "look_back = 7\n",
        "data_x = []\n",
        "data_y = []\n",
        "for i in final_data:\n",
        "    for j in range(len(i) - look_back):\n",
        "        data_x.append(i[j: j + look_back])\n",
        "        data_y.append(i[j + look_back])\n",
        "    "
      ],
      "execution_count": 0,
      "outputs": []
    },
    {
      "cell_type": "code",
      "metadata": {
        "id": "a5-d7_43NiPR",
        "colab_type": "code",
        "colab": {}
      },
      "source": [
        "data_x = np.array(data_x)\n",
        "data_y = np.array(data_y)"
      ],
      "execution_count": 0,
      "outputs": []
    },
    {
      "cell_type": "code",
      "metadata": {
        "id": "txe_io5dNmzM",
        "colab_type": "code",
        "colab": {}
      },
      "source": [
        "x_train = data_x[0:500]\n",
        "x_test = data_x[500:]\n",
        "y_train = data_y[0:500]\n",
        "y_test = data_y[500:]"
      ],
      "execution_count": 0,
      "outputs": []
    },
    {
      "cell_type": "code",
      "metadata": {
        "id": "kAcnIVQ6Nrxe",
        "colab_type": "code",
        "colab": {
          "base_uri": "https://localhost:8080/",
          "height": 1000
        },
        "outputId": "c9db47a9-ead4-43a8-d488-1ab25226fe69"
      },
      "source": [
        "from keras.models import Sequential\n",
        "from keras.layers import Dense\n",
        "from keras.layers import LSTM\n",
        "model = Sequential()\n",
        "model.add(LSTM(50, input_shape=(x_train.shape[1], x_train.shape[2])))\n",
        "model.add(Dense(4))\n",
        "model.compile(loss='mae', optimizer='adam')\n",
        "# fit network\n",
        "history = model.fit(x_train, y_train, epochs=50, batch_size=8, validation_data=(x_test, y_test), verbose=2, shuffle=False)"
      ],
      "execution_count": 16,
      "outputs": [
        {
          "output_type": "stream",
          "text": [
            "Using TensorFlow backend.\n"
          ],
          "name": "stderr"
        },
        {
          "output_type": "display_data",
          "data": {
            "text/html": [
              "<p style=\"color: red;\">\n",
              "The default version of TensorFlow in Colab will soon switch to TensorFlow 2.x.<br>\n",
              "We recommend you <a href=\"https://www.tensorflow.org/guide/migrate\" target=\"_blank\">upgrade</a> now \n",
              "or ensure your notebook will continue to use TensorFlow 1.x via the <code>%tensorflow_version 1.x</code> magic:\n",
              "<a href=\"https://colab.research.google.com/notebooks/tensorflow_version.ipynb\" target=\"_blank\">more info</a>.</p>\n"
            ],
            "text/plain": [
              "<IPython.core.display.HTML object>"
            ]
          },
          "metadata": {
            "tags": []
          }
        },
        {
          "output_type": "stream",
          "text": [
            "WARNING:tensorflow:From /usr/local/lib/python3.6/dist-packages/keras/backend/tensorflow_backend.py:66: The name tf.get_default_graph is deprecated. Please use tf.compat.v1.get_default_graph instead.\n",
            "\n",
            "WARNING:tensorflow:From /usr/local/lib/python3.6/dist-packages/keras/backend/tensorflow_backend.py:541: The name tf.placeholder is deprecated. Please use tf.compat.v1.placeholder instead.\n",
            "\n",
            "WARNING:tensorflow:From /usr/local/lib/python3.6/dist-packages/keras/backend/tensorflow_backend.py:4432: The name tf.random_uniform is deprecated. Please use tf.random.uniform instead.\n",
            "\n",
            "WARNING:tensorflow:From /usr/local/lib/python3.6/dist-packages/keras/optimizers.py:793: The name tf.train.Optimizer is deprecated. Please use tf.compat.v1.train.Optimizer instead.\n",
            "\n",
            "WARNING:tensorflow:From /usr/local/lib/python3.6/dist-packages/tensorflow_core/python/ops/math_grad.py:1424: where (from tensorflow.python.ops.array_ops) is deprecated and will be removed in a future version.\n",
            "Instructions for updating:\n",
            "Use tf.where in 2.0, which has the same broadcast rule as np.where\n",
            "WARNING:tensorflow:From /usr/local/lib/python3.6/dist-packages/keras/backend/tensorflow_backend.py:1033: The name tf.assign_add is deprecated. Please use tf.compat.v1.assign_add instead.\n",
            "\n",
            "WARNING:tensorflow:From /usr/local/lib/python3.6/dist-packages/keras/backend/tensorflow_backend.py:1020: The name tf.assign is deprecated. Please use tf.compat.v1.assign instead.\n",
            "\n",
            "WARNING:tensorflow:From /usr/local/lib/python3.6/dist-packages/keras/backend/tensorflow_backend.py:3005: The name tf.Session is deprecated. Please use tf.compat.v1.Session instead.\n",
            "\n",
            "Train on 500 samples, validate on 60 samples\n",
            "Epoch 1/50\n",
            "WARNING:tensorflow:From /usr/local/lib/python3.6/dist-packages/keras/backend/tensorflow_backend.py:190: The name tf.get_default_session is deprecated. Please use tf.compat.v1.get_default_session instead.\n",
            "\n",
            "WARNING:tensorflow:From /usr/local/lib/python3.6/dist-packages/keras/backend/tensorflow_backend.py:197: The name tf.ConfigProto is deprecated. Please use tf.compat.v1.ConfigProto instead.\n",
            "\n",
            "WARNING:tensorflow:From /usr/local/lib/python3.6/dist-packages/keras/backend/tensorflow_backend.py:207: The name tf.global_variables is deprecated. Please use tf.compat.v1.global_variables instead.\n",
            "\n",
            "WARNING:tensorflow:From /usr/local/lib/python3.6/dist-packages/keras/backend/tensorflow_backend.py:216: The name tf.is_variable_initialized is deprecated. Please use tf.compat.v1.is_variable_initialized instead.\n",
            "\n",
            "WARNING:tensorflow:From /usr/local/lib/python3.6/dist-packages/keras/backend/tensorflow_backend.py:223: The name tf.variables_initializer is deprecated. Please use tf.compat.v1.variables_initializer instead.\n",
            "\n",
            " - 1s - loss: 0.2803 - val_loss: 0.1513\n",
            "Epoch 2/50\n",
            " - 0s - loss: 0.1181 - val_loss: 0.1358\n",
            "Epoch 3/50\n",
            " - 0s - loss: 0.0993 - val_loss: 0.1267\n",
            "Epoch 4/50\n",
            " - 0s - loss: 0.0825 - val_loss: 0.1125\n",
            "Epoch 5/50\n",
            " - 0s - loss: 0.0703 - val_loss: 0.0935\n",
            "Epoch 6/50\n",
            " - 0s - loss: 0.0711 - val_loss: 0.0851\n",
            "Epoch 7/50\n",
            " - 0s - loss: 0.0724 - val_loss: 0.0929\n",
            "Epoch 8/50\n",
            " - 0s - loss: 0.0740 - val_loss: 0.0854\n",
            "Epoch 9/50\n",
            " - 0s - loss: 0.0739 - val_loss: 0.0970\n",
            "Epoch 10/50\n",
            " - 0s - loss: 0.0730 - val_loss: 0.0939\n",
            "Epoch 11/50\n",
            " - 0s - loss: 0.0705 - val_loss: 0.0847\n",
            "Epoch 12/50\n",
            " - 0s - loss: 0.0703 - val_loss: 0.0868\n",
            "Epoch 13/50\n",
            " - 0s - loss: 0.0679 - val_loss: 0.0831\n",
            "Epoch 14/50\n",
            " - 0s - loss: 0.0655 - val_loss: 0.0714\n",
            "Epoch 15/50\n",
            " - 0s - loss: 0.0658 - val_loss: 0.0692\n",
            "Epoch 16/50\n",
            " - 0s - loss: 0.0654 - val_loss: 0.0689\n",
            "Epoch 17/50\n",
            " - 0s - loss: 0.0635 - val_loss: 0.0700\n",
            "Epoch 18/50\n",
            " - 0s - loss: 0.0671 - val_loss: 0.0719\n",
            "Epoch 19/50\n",
            " - 0s - loss: 0.0626 - val_loss: 0.0665\n",
            "Epoch 20/50\n",
            " - 0s - loss: 0.0672 - val_loss: 0.0724\n",
            "Epoch 21/50\n",
            " - 0s - loss: 0.0651 - val_loss: 0.0667\n",
            "Epoch 22/50\n",
            " - 0s - loss: 0.0624 - val_loss: 0.0647\n",
            "Epoch 23/50\n",
            " - 0s - loss: 0.0612 - val_loss: 0.0655\n",
            "Epoch 24/50\n",
            " - 0s - loss: 0.0612 - val_loss: 0.0630\n",
            "Epoch 25/50\n",
            " - 0s - loss: 0.0628 - val_loss: 0.0658\n",
            "Epoch 26/50\n",
            " - 0s - loss: 0.0605 - val_loss: 0.0623\n",
            "Epoch 27/50\n",
            " - 0s - loss: 0.0647 - val_loss: 0.0649\n",
            "Epoch 28/50\n",
            " - 0s - loss: 0.0612 - val_loss: 0.0589\n",
            "Epoch 29/50\n",
            " - 0s - loss: 0.0598 - val_loss: 0.0626\n",
            "Epoch 30/50\n",
            " - 0s - loss: 0.0620 - val_loss: 0.0612\n",
            "Epoch 31/50\n",
            " - 0s - loss: 0.0623 - val_loss: 0.0585\n",
            "Epoch 32/50\n",
            " - 0s - loss: 0.0610 - val_loss: 0.0609\n",
            "Epoch 33/50\n",
            " - 0s - loss: 0.0612 - val_loss: 0.0622\n",
            "Epoch 34/50\n",
            " - 0s - loss: 0.0642 - val_loss: 0.0586\n",
            "Epoch 35/50\n",
            " - 0s - loss: 0.0606 - val_loss: 0.0621\n",
            "Epoch 36/50\n",
            " - 0s - loss: 0.0578 - val_loss: 0.0581\n",
            "Epoch 37/50\n",
            " - 0s - loss: 0.0596 - val_loss: 0.0566\n",
            "Epoch 38/50\n",
            " - 0s - loss: 0.0584 - val_loss: 0.0582\n",
            "Epoch 39/50\n",
            " - 0s - loss: 0.0590 - val_loss: 0.0578\n",
            "Epoch 40/50\n",
            " - 0s - loss: 0.0581 - val_loss: 0.0565\n",
            "Epoch 41/50\n",
            " - 0s - loss: 0.0588 - val_loss: 0.0568\n",
            "Epoch 42/50\n",
            " - 0s - loss: 0.0613 - val_loss: 0.0576\n",
            "Epoch 43/50\n",
            " - 0s - loss: 0.0581 - val_loss: 0.0573\n",
            "Epoch 44/50\n",
            " - 0s - loss: 0.0602 - val_loss: 0.0565\n",
            "Epoch 45/50\n",
            " - 0s - loss: 0.0586 - val_loss: 0.0575\n",
            "Epoch 46/50\n",
            " - 0s - loss: 0.0615 - val_loss: 0.0597\n",
            "Epoch 47/50\n",
            " - 0s - loss: 0.0609 - val_loss: 0.0583\n",
            "Epoch 48/50\n",
            " - 0s - loss: 0.0594 - val_loss: 0.0584\n",
            "Epoch 49/50\n",
            " - 0s - loss: 0.0582 - val_loss: 0.0552\n",
            "Epoch 50/50\n",
            " - 0s - loss: 0.0585 - val_loss: 0.0576\n"
          ],
          "name": "stdout"
        }
      ]
    },
    {
      "cell_type": "code",
      "metadata": {
        "id": "LVB5Gom9N6R_",
        "colab_type": "code",
        "colab": {}
      },
      "source": [
        "yhat = model.predict(x_test)"
      ],
      "execution_count": 0,
      "outputs": []
    },
    {
      "cell_type": "code",
      "metadata": {
        "id": "FhbMZcRtOBD0",
        "colab_type": "code",
        "colab": {}
      },
      "source": [
        "res = sc.inverse_transform(yhat)\n",
        "ori = sc.inverse_transform(y_test)"
      ],
      "execution_count": 0,
      "outputs": []
    },
    {
      "cell_type": "code",
      "metadata": {
        "id": "ACMPrRcHOFZ3",
        "colab_type": "code",
        "colab": {
          "base_uri": "https://localhost:8080/",
          "height": 1000
        },
        "outputId": "e4eaa896-2222-4e36-9428-45699004f171"
      },
      "source": [
        "for i in range(len(x_test)):\n",
        "    print(res[i], ori[i])"
      ],
      "execution_count": 19,
      "outputs": [
        {
          "output_type": "stream",
          "text": [
            "[100.406364 127.31081   92.11021   52.34576 ] [ 98. 140.  91.  54.]\n",
            "[100.02752  131.31993   91.67709   52.708332] [100. 137. 100.  55.]\n",
            "[100.201645 150.70638   84.26031   54.461975] [100. 157.  81.  49.]\n",
            "[100.17899 151.38977  81.51754  51.71851] [100. 149.  88.  53.]\n",
            "[100.20788  147.73479   83.51148   52.796703] [100.       156.        68.        41.000004]\n",
            "[100.20917  150.45288   76.27941   47.108654] [100. 165.  76.  42.]\n",
            "[100.29156 154.3024   75.33917  44.5587 ] [100. 164.  68.  46.]\n",
            "[100.38052  155.50528   73.45059   44.303448] [100. 148.  79.  52.]\n",
            "[100.46072  149.07004   77.03934   48.016285] [100. 155.  74.  52.]\n",
            "[100.459785 149.14716   76.99821   48.733498] [100. 156.  65.  44.]\n",
            "[100.45213 150.54663  72.20945  45.74949] [100. 161.  77.  54.]\n",
            "[100.46304  151.48848   74.93573   48.318977] [100. 146.  70.  51.]\n",
            "[100.425995 146.92993   73.88365   49.241966] [100.       144.        68.        50.000004]\n",
            "[100.40475 143.87111  72.41773  49.0819 ] [100. 149.  59.  39.]\n",
            "[100.410484 145.363     67.013435  44.07738 ] [100. 146.  64.  70.]\n",
            "[100.45752  140.73817   71.73258   53.023388] [100.       147.        61.        41.000004]\n",
            "[100.35368 142.98308  65.63583  46.80681] [100. 149.  64.  34.]\n",
            "[100.38392  145.05936   63.037975  41.447365] [100. 147.  69.  37.]\n",
            "[100.51397 144.51193  64.31245  39.74257] [100. 143.  61.  36.]\n",
            "[100.59772  143.08669   63.376053  38.120327] [100. 140.  51.  35.]\n",
            "[100.662285 141.30777   60.34954   36.281723] [100. 144.  57.  39.]\n",
            "[100.690735 140.94318   60.931477  36.790585] [100. 148.  64.  46.]\n",
            "[100.83722  141.46591   64.7328    39.374733] [100. 142.  71.  51.]\n",
            "[100.808495 139.12984   68.92761   43.705982] [100. 136.  66.  39.]\n",
            "[100.72133  137.5812    67.01277   41.718655] [100. 159.  61.  42.]\n",
            "[100.686745 144.9941    64.93893   40.033978] [100. 147.  56.  36.]\n",
            "[100.68753  144.88573   61.626198  37.923916] [100. 153.  52.  37.]\n",
            "[100.67247 147.03397  59.4209   36.65465] [100. 154.  61.  36.]\n",
            "[100.6848   148.38924   60.174713  36.067684] [100. 150.  68.  37.]\n",
            "[100.7433   147.4882    62.937374  36.627056] [100.       147.        62.000004  34.      ]\n",
            "[100.79771  146.66447   62.518974  35.45633 ] [100. 150.  76.  42.]\n",
            "[100.806854 146.04662   68.07911   38.485462] [100. 151.  73.  37.]\n",
            "[100.82664  146.91464   69.360344  37.869816] [100. 150.  60.  36.]\n",
            "[100.8273   147.34596   66.868744  36.72247 ] [100. 153.  68.  45.]\n",
            "[100.844246 147.10086   69.82553   39.771553] [100. 150.  65.  35.]\n",
            "[100.810844 147.42828   67.730515  37.771458] [100. 147.  60.  34.]\n",
            "[100.82371  146.49646   65.31701   36.247536] [100. 140.  70.  42.]\n",
            "[100.839676 141.8848    68.90725   39.33494 ] [100. 135.  72.  51.]\n",
            "[100.82652 136.73982  72.67765  44.14837] [100. 150.  71.  48.]\n",
            "[100.718735 140.60365   72.41939   44.410904] [100.       156.        70.        50.000004]\n",
            "[100.655594 144.59424   72.367615  45.32789 ] [100. 150.  70.  45.]\n",
            "[100.63922  145.07922   71.304756  44.59249 ] [100. 150.  68.  44.]\n",
            "[100.59883  145.50204   70.163605  43.969448] [ 98. 143.  67.  43.]\n",
            "[ 99.985435 105.370026 108.61153   67.87507 ] [100. 105. 120.  76.]\n",
            "[ 99.7177  106.63222 112.71786  69.31489] [100.  98.  85.  67.]\n",
            "[ 99.71866 104.66278 102.45929  65.58417] [100.  96. 104.  60.]\n",
            "[ 99.70379  102.467995 101.603065  63.034187] [100. 137. 109.  58.]\n",
            "[ 99.66235  116.74946  100.79069   58.862823] [100.       137.       104.        50.000004]\n",
            "[ 99.7105   124.823906  98.285774  54.884125] [100. 138. 112.  57.]\n",
            "[ 99.80792  128.2927   101.27881   55.946915] [100. 171. 102.  52.]\n",
            "[ 99.83742  144.93385   99.35507   52.366177] [100. 140. 110.  52.]\n",
            "[100.042206 140.61375  101.62044   53.98206 ] [100.       127.        96.        50.000004]\n",
            "[100.128525 134.44978  100.60103   53.98611 ] [100.      109.99999 103.       53.     ]\n",
            "[100.21987 123.93498 103.03874  56.1987 ] [100. 141. 100.  55.]\n",
            "[100.168015 130.3501   101.99135   54.759678] [100.  72. 125.  68.]\n",
            "[100.25731 105.13176 112.55932  64.6754 ] [100. 105.  98.  51.]\n",
            "[ 99.987686 108.203    105.152145  57.890343] [100.  98.  89.  49.]\n",
            "[100.10046 104.69702  99.64678  54.23013] [100.  96.  93.  48.]\n",
            "[100.15653  101.74139   97.450554  52.162586] [100. 102.  91.  47.]\n",
            "[100.18576  102.34148   95.43941   50.089417] [100. 103.  92.  46.]\n"
          ],
          "name": "stdout"
        }
      ]
    }
  ]
}