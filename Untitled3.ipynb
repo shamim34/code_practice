{
  "nbformat": 4,
  "nbformat_minor": 0,
  "metadata": {
    "colab": {
      "name": "Untitled3.ipynb",
      "provenance": [],
      "authorship_tag": "ABX9TyMKXsfBpeoAFmhf3DPxIm4g",
      "include_colab_link": true
    },
    "kernelspec": {
      "name": "python3",
      "display_name": "Python 3"
    }
  },
  "cells": [
    {
      "cell_type": "markdown",
      "metadata": {
        "id": "view-in-github",
        "colab_type": "text"
      },
      "source": [
        "<a href=\"https://colab.research.google.com/github/shamim34/code_practice/blob/master/Untitled3.ipynb\" target=\"_parent\"><img src=\"https://colab.research.google.com/assets/colab-badge.svg\" alt=\"Open In Colab\"/></a>"
      ]
    },
    {
      "cell_type": "code",
      "metadata": {
        "id": "PgAoFv1oEm9w",
        "colab_type": "code",
        "colab": {
          "base_uri": "https://localhost:8080/",
          "height": 122
        },
        "outputId": "35f4d02a-3d06-471c-fd40-0631224ce66a"
      },
      "source": [
        "from google.colab import drive\n",
        "drive.mount('/content/drive/')"
      ],
      "execution_count": 1,
      "outputs": [
        {
          "output_type": "stream",
          "text": [
            "Go to this URL in a browser: https://accounts.google.com/o/oauth2/auth?client_id=947318989803-6bn6qk8qdgf4n4g3pfee6491hc0brc4i.apps.googleusercontent.com&redirect_uri=urn%3aietf%3awg%3aoauth%3a2.0%3aoob&response_type=code&scope=email%20https%3a%2f%2fwww.googleapis.com%2fauth%2fdocs.test%20https%3a%2f%2fwww.googleapis.com%2fauth%2fdrive%20https%3a%2f%2fwww.googleapis.com%2fauth%2fdrive.photos.readonly%20https%3a%2f%2fwww.googleapis.com%2fauth%2fpeopleapi.readonly\n",
            "\n",
            "Enter your authorization code:\n",
            "··········\n",
            "Mounted at /content/drive/\n"
          ],
          "name": "stdout"
        }
      ]
    },
    {
      "cell_type": "code",
      "metadata": {
        "id": "VHuU2hW5E4Qb",
        "colab_type": "code",
        "colab": {}
      },
      "source": [
        "import numpy as np\n",
        "import pandas as pd\n",
        "import matplotlib.pyplot as plt\n",
        "%matplotlib inline\n"
      ],
      "execution_count": 0,
      "outputs": []
    },
    {
      "cell_type": "code",
      "metadata": {
        "id": "swu5_RZ6FDq2",
        "colab_type": "code",
        "colab": {}
      },
      "source": [
        "import os"
      ],
      "execution_count": 0,
      "outputs": []
    },
    {
      "cell_type": "code",
      "metadata": {
        "id": "ARPBM6fAFJuR",
        "colab_type": "code",
        "colab": {
          "base_uri": "https://localhost:8080/",
          "height": 394
        },
        "outputId": "3ef2e0ad-8696-4343-cf90-02e484d5ecf3"
      },
      "source": [
        "!pip install \"tensorflow>=1.15,<2.0\""
      ],
      "execution_count": 4,
      "outputs": [
        {
          "output_type": "stream",
          "text": [
            "Requirement already satisfied: tensorflow<2.0,>=1.15 in /usr/local/lib/python3.6/dist-packages (1.15.0)\n",
            "Requirement already satisfied: opt-einsum>=2.3.2 in /usr/local/lib/python3.6/dist-packages (from tensorflow<2.0,>=1.15) (3.1.0)\n",
            "Requirement already satisfied: termcolor>=1.1.0 in /usr/local/lib/python3.6/dist-packages (from tensorflow<2.0,>=1.15) (1.1.0)\n",
            "Requirement already satisfied: tensorflow-estimator==1.15.1 in /usr/local/lib/python3.6/dist-packages (from tensorflow<2.0,>=1.15) (1.15.1)\n",
            "Requirement already satisfied: keras-preprocessing>=1.0.5 in /usr/local/lib/python3.6/dist-packages (from tensorflow<2.0,>=1.15) (1.1.0)\n",
            "Requirement already satisfied: numpy<2.0,>=1.16.0 in /usr/local/lib/python3.6/dist-packages (from tensorflow<2.0,>=1.15) (1.17.5)\n",
            "Requirement already satisfied: tensorboard<1.16.0,>=1.15.0 in /usr/local/lib/python3.6/dist-packages (from tensorflow<2.0,>=1.15) (1.15.0)\n",
            "Requirement already satisfied: wrapt>=1.11.1 in /usr/local/lib/python3.6/dist-packages (from tensorflow<2.0,>=1.15) (1.11.2)\n",
            "Requirement already satisfied: wheel>=0.26 in /usr/local/lib/python3.6/dist-packages (from tensorflow<2.0,>=1.15) (0.33.6)\n",
            "Requirement already satisfied: absl-py>=0.7.0 in /usr/local/lib/python3.6/dist-packages (from tensorflow<2.0,>=1.15) (0.9.0)\n",
            "Requirement already satisfied: keras-applications>=1.0.8 in /usr/local/lib/python3.6/dist-packages (from tensorflow<2.0,>=1.15) (1.0.8)\n",
            "Requirement already satisfied: gast==0.2.2 in /usr/local/lib/python3.6/dist-packages (from tensorflow<2.0,>=1.15) (0.2.2)\n",
            "Requirement already satisfied: google-pasta>=0.1.6 in /usr/local/lib/python3.6/dist-packages (from tensorflow<2.0,>=1.15) (0.1.8)\n",
            "Requirement already satisfied: six>=1.10.0 in /usr/local/lib/python3.6/dist-packages (from tensorflow<2.0,>=1.15) (1.12.0)\n",
            "Requirement already satisfied: grpcio>=1.8.6 in /usr/local/lib/python3.6/dist-packages (from tensorflow<2.0,>=1.15) (1.15.0)\n",
            "Requirement already satisfied: astor>=0.6.0 in /usr/local/lib/python3.6/dist-packages (from tensorflow<2.0,>=1.15) (0.8.1)\n",
            "Requirement already satisfied: protobuf>=3.6.1 in /usr/local/lib/python3.6/dist-packages (from tensorflow<2.0,>=1.15) (3.10.0)\n",
            "Requirement already satisfied: setuptools>=41.0.0 in /usr/local/lib/python3.6/dist-packages (from tensorboard<1.16.0,>=1.15.0->tensorflow<2.0,>=1.15) (42.0.2)\n",
            "Requirement already satisfied: werkzeug>=0.11.15 in /usr/local/lib/python3.6/dist-packages (from tensorboard<1.16.0,>=1.15.0->tensorflow<2.0,>=1.15) (0.16.0)\n",
            "Requirement already satisfied: markdown>=2.6.8 in /usr/local/lib/python3.6/dist-packages (from tensorboard<1.16.0,>=1.15.0->tensorflow<2.0,>=1.15) (3.1.1)\n",
            "Requirement already satisfied: h5py in /usr/local/lib/python3.6/dist-packages (from keras-applications>=1.0.8->tensorflow<2.0,>=1.15) (2.8.0)\n"
          ],
          "name": "stdout"
        }
      ]
    },
    {
      "cell_type": "code",
      "metadata": {
        "id": "VvKgzVPLFU6Q",
        "colab_type": "code",
        "colab": {}
      },
      "source": [
        "import os\n",
        "os.chdir('drive/My Drive/Heart/')"
      ],
      "execution_count": 0,
      "outputs": []
    },
    {
      "cell_type": "code",
      "metadata": {
        "id": "jcaThdPEFp5h",
        "colab_type": "code",
        "colab": {}
      },
      "source": [
        "data_directory = 'data/'\n",
        "data = []\n",
        "for file in os.listdir(data_directory):\n",
        "    if(str(file).split('.')[1] == 'csv'):\n",
        "        reader = pd.read_csv(os.path.join(data_directory,file))\n",
        "        reader = reader.dropna()\n",
        "        data.append(reader.iloc[:,1:5].values.astype('float32'))\n",
        "        "
      ],
      "execution_count": 0,
      "outputs": []
    },
    {
      "cell_type": "code",
      "metadata": {
        "id": "tcMu9We3F28W",
        "colab_type": "code",
        "colab": {
          "base_uri": "https://localhost:8080/",
          "height": 272
        },
        "outputId": "aa3dfdc9-1b0a-4f52-9f22-676b05a355c1"
      },
      "source": [
        "sz = []\n",
        "sz.append(len(data[0]))\n",
        "dat= data[0]\n",
        "for i in range(1,len(data)):\n",
        "    sz.append(len(data[i]))\n",
        "    dat = np.vstack((dat,data[i]))\n",
        "    print(dat.shape, sz[i])"
      ],
      "execution_count": 7,
      "outputs": [
        {
          "output_type": "stream",
          "text": [
            "(96, 4) 24\n",
            "(144, 4) 48\n",
            "(168, 4) 24\n",
            "(192, 4) 24\n",
            "(240, 4) 48\n",
            "(288, 4) 48\n",
            "(360, 4) 72\n",
            "(408, 4) 48\n",
            "(432, 4) 24\n",
            "(456, 4) 24\n",
            "(480, 4) 24\n",
            "(504, 4) 24\n",
            "(600, 4) 96\n",
            "(648, 4) 48\n",
            "(672, 4) 24\n"
          ],
          "name": "stdout"
        }
      ]
    },
    {
      "cell_type": "code",
      "metadata": {
        "id": "MNrsbPAwGBZ5",
        "colab_type": "code",
        "colab": {}
      },
      "source": [
        "\n",
        "from sklearn.preprocessing import MinMaxScaler\n",
        "sc= MinMaxScaler(feature_range=(0,1))\n",
        "dat[:] = sc.fit_transform(dat[:])"
      ],
      "execution_count": 0,
      "outputs": []
    },
    {
      "cell_type": "code",
      "metadata": {
        "id": "sxww7hSEGFS4",
        "colab_type": "code",
        "colab": {}
      },
      "source": [
        "final_data = []\n",
        "koto = 0\n",
        "for i in sz:\n",
        "    final_data.append(dat[koto: koto + i])\n",
        "    koto += i\n",
        "    "
      ],
      "execution_count": 0,
      "outputs": []
    },
    {
      "cell_type": "code",
      "metadata": {
        "id": "M-KGWi_CGMGJ",
        "colab_type": "code",
        "colab": {}
      },
      "source": [
        "look_back = 7\n",
        "data_x = []\n",
        "data_y = []\n",
        "for i in final_data:\n",
        "    for j in range(len(i) - look_back):\n",
        "        data_x.append(i[j: j + look_back])\n",
        "        data_y.append(i[j + look_back])\n",
        "    "
      ],
      "execution_count": 0,
      "outputs": []
    },
    {
      "cell_type": "code",
      "metadata": {
        "id": "eqFAx6k8HCjt",
        "colab_type": "code",
        "colab": {}
      },
      "source": [
        "data_x = np.array(data_x)\n",
        "data_y = np.array(data_y)"
      ],
      "execution_count": 0,
      "outputs": []
    },
    {
      "cell_type": "code",
      "metadata": {
        "id": "IJBRlFPDHIis",
        "colab_type": "code",
        "colab": {}
      },
      "source": [
        "x_train = data_x[0:500]\n",
        "x_test = data_x[500:]\n",
        "y_train = data_y[0:500]\n",
        "y_test = data_y[500:]"
      ],
      "execution_count": 0,
      "outputs": []
    },
    {
      "cell_type": "code",
      "metadata": {
        "id": "2AACkrUAHQuI",
        "colab_type": "code",
        "colab": {
          "base_uri": "https://localhost:8080/",
          "height": 1000
        },
        "outputId": "7d5fbf41-4ee2-4938-b75a-935f3dd95f74"
      },
      "source": [
        "from keras.models import Sequential\n",
        "from keras.layers import Dense\n",
        "from keras.layers import LSTM\n",
        "model = Sequential()\n",
        "model.add(LSTM(50, input_shape=(x_train.shape[1], x_train.shape[2])))\n",
        "model.add(Dense(4))\n",
        "model.compile(loss='mae', optimizer='adam')\n",
        "# fit network\n",
        "history = model.fit(x_train, y_train, epochs=50, batch_size=8, validation_data=(x_test, y_test), verbose=2, shuffle=False)"
      ],
      "execution_count": 16,
      "outputs": [
        {
          "output_type": "stream",
          "text": [
            "Using TensorFlow backend.\n"
          ],
          "name": "stderr"
        },
        {
          "output_type": "display_data",
          "data": {
            "text/html": [
              "<p style=\"color: red;\">\n",
              "The default version of TensorFlow in Colab will soon switch to TensorFlow 2.x.<br>\n",
              "We recommend you <a href=\"https://www.tensorflow.org/guide/migrate\" target=\"_blank\">upgrade</a> now \n",
              "or ensure your notebook will continue to use TensorFlow 1.x via the <code>%tensorflow_version 1.x</code> magic:\n",
              "<a href=\"https://colab.research.google.com/notebooks/tensorflow_version.ipynb\" target=\"_blank\">more info</a>.</p>\n"
            ],
            "text/plain": [
              "<IPython.core.display.HTML object>"
            ]
          },
          "metadata": {
            "tags": []
          }
        },
        {
          "output_type": "stream",
          "text": [
            "WARNING:tensorflow:From /usr/local/lib/python3.6/dist-packages/keras/backend/tensorflow_backend.py:66: The name tf.get_default_graph is deprecated. Please use tf.compat.v1.get_default_graph instead.\n",
            "\n",
            "WARNING:tensorflow:From /usr/local/lib/python3.6/dist-packages/keras/backend/tensorflow_backend.py:541: The name tf.placeholder is deprecated. Please use tf.compat.v1.placeholder instead.\n",
            "\n",
            "WARNING:tensorflow:From /usr/local/lib/python3.6/dist-packages/keras/backend/tensorflow_backend.py:4432: The name tf.random_uniform is deprecated. Please use tf.random.uniform instead.\n",
            "\n",
            "WARNING:tensorflow:From /usr/local/lib/python3.6/dist-packages/keras/optimizers.py:793: The name tf.train.Optimizer is deprecated. Please use tf.compat.v1.train.Optimizer instead.\n",
            "\n",
            "WARNING:tensorflow:From /usr/local/lib/python3.6/dist-packages/tensorflow_core/python/ops/math_grad.py:1424: where (from tensorflow.python.ops.array_ops) is deprecated and will be removed in a future version.\n",
            "Instructions for updating:\n",
            "Use tf.where in 2.0, which has the same broadcast rule as np.where\n",
            "WARNING:tensorflow:From /usr/local/lib/python3.6/dist-packages/keras/backend/tensorflow_backend.py:1033: The name tf.assign_add is deprecated. Please use tf.compat.v1.assign_add instead.\n",
            "\n",
            "WARNING:tensorflow:From /usr/local/lib/python3.6/dist-packages/keras/backend/tensorflow_backend.py:1020: The name tf.assign is deprecated. Please use tf.compat.v1.assign instead.\n",
            "\n",
            "WARNING:tensorflow:From /usr/local/lib/python3.6/dist-packages/keras/backend/tensorflow_backend.py:3005: The name tf.Session is deprecated. Please use tf.compat.v1.Session instead.\n",
            "\n",
            "Train on 500 samples, validate on 60 samples\n",
            "Epoch 1/50\n",
            "WARNING:tensorflow:From /usr/local/lib/python3.6/dist-packages/keras/backend/tensorflow_backend.py:190: The name tf.get_default_session is deprecated. Please use tf.compat.v1.get_default_session instead.\n",
            "\n",
            "WARNING:tensorflow:From /usr/local/lib/python3.6/dist-packages/keras/backend/tensorflow_backend.py:197: The name tf.ConfigProto is deprecated. Please use tf.compat.v1.ConfigProto instead.\n",
            "\n",
            "WARNING:tensorflow:From /usr/local/lib/python3.6/dist-packages/keras/backend/tensorflow_backend.py:207: The name tf.global_variables is deprecated. Please use tf.compat.v1.global_variables instead.\n",
            "\n",
            "WARNING:tensorflow:From /usr/local/lib/python3.6/dist-packages/keras/backend/tensorflow_backend.py:216: The name tf.is_variable_initialized is deprecated. Please use tf.compat.v1.is_variable_initialized instead.\n",
            "\n",
            "WARNING:tensorflow:From /usr/local/lib/python3.6/dist-packages/keras/backend/tensorflow_backend.py:223: The name tf.variables_initializer is deprecated. Please use tf.compat.v1.variables_initializer instead.\n",
            "\n",
            " - 2s - loss: 0.2006 - val_loss: 0.1598\n",
            "Epoch 2/50\n",
            " - 0s - loss: 0.1119 - val_loss: 0.1461\n",
            "Epoch 3/50\n",
            " - 0s - loss: 0.0954 - val_loss: 0.1481\n",
            "Epoch 4/50\n",
            " - 0s - loss: 0.0794 - val_loss: 0.1286\n",
            "Epoch 5/50\n",
            " - 0s - loss: 0.0739 - val_loss: 0.1015\n",
            "Epoch 6/50\n",
            " - 0s - loss: 0.0769 - val_loss: 0.0944\n",
            "Epoch 7/50\n",
            " - 0s - loss: 0.0705 - val_loss: 0.0758\n",
            "Epoch 8/50\n",
            " - 0s - loss: 0.0714 - val_loss: 0.0788\n",
            "Epoch 9/50\n",
            " - 0s - loss: 0.0683 - val_loss: 0.0720\n",
            "Epoch 10/50\n",
            " - 0s - loss: 0.0701 - val_loss: 0.0838\n",
            "Epoch 11/50\n",
            " - 0s - loss: 0.0687 - val_loss: 0.0758\n",
            "Epoch 12/50\n",
            " - 0s - loss: 0.0706 - val_loss: 0.0797\n",
            "Epoch 13/50\n",
            " - 0s - loss: 0.0673 - val_loss: 0.0706\n",
            "Epoch 14/50\n",
            " - 0s - loss: 0.0667 - val_loss: 0.0711\n",
            "Epoch 15/50\n",
            " - 0s - loss: 0.0649 - val_loss: 0.0665\n",
            "Epoch 16/50\n",
            " - 0s - loss: 0.0624 - val_loss: 0.0667\n",
            "Epoch 17/50\n",
            " - 0s - loss: 0.0618 - val_loss: 0.0677\n",
            "Epoch 18/50\n",
            " - 0s - loss: 0.0616 - val_loss: 0.0662\n",
            "Epoch 19/50\n",
            " - 0s - loss: 0.0605 - val_loss: 0.0646\n",
            "Epoch 20/50\n",
            " - 0s - loss: 0.0633 - val_loss: 0.0648\n",
            "Epoch 21/50\n",
            " - 0s - loss: 0.0636 - val_loss: 0.0673\n",
            "Epoch 22/50\n",
            " - 0s - loss: 0.0610 - val_loss: 0.0637\n",
            "Epoch 23/50\n",
            " - 0s - loss: 0.0621 - val_loss: 0.0656\n",
            "Epoch 24/50\n",
            " - 0s - loss: 0.0615 - val_loss: 0.0615\n",
            "Epoch 25/50\n",
            " - 0s - loss: 0.0604 - val_loss: 0.0644\n",
            "Epoch 26/50\n",
            " - 0s - loss: 0.0645 - val_loss: 0.0635\n",
            "Epoch 27/50\n",
            " - 0s - loss: 0.0605 - val_loss: 0.0611\n",
            "Epoch 28/50\n",
            " - 0s - loss: 0.0635 - val_loss: 0.0583\n",
            "Epoch 29/50\n",
            " - 0s - loss: 0.0631 - val_loss: 0.0649\n",
            "Epoch 30/50\n",
            " - 0s - loss: 0.0624 - val_loss: 0.0579\n",
            "Epoch 31/50\n",
            " - 0s - loss: 0.0608 - val_loss: 0.0621\n",
            "Epoch 32/50\n",
            " - 0s - loss: 0.0599 - val_loss: 0.0612\n",
            "Epoch 33/50\n",
            " - 0s - loss: 0.0604 - val_loss: 0.0586\n",
            "Epoch 34/50\n",
            " - 0s - loss: 0.0631 - val_loss: 0.0611\n",
            "Epoch 35/50\n",
            " - 0s - loss: 0.0614 - val_loss: 0.0584\n",
            "Epoch 36/50\n",
            " - 0s - loss: 0.0573 - val_loss: 0.0573\n",
            "Epoch 37/50\n",
            " - 0s - loss: 0.0610 - val_loss: 0.0559\n",
            "Epoch 38/50\n",
            " - 0s - loss: 0.0582 - val_loss: 0.0567\n",
            "Epoch 39/50\n",
            " - 1s - loss: 0.0585 - val_loss: 0.0567\n",
            "Epoch 40/50\n",
            " - 0s - loss: 0.0590 - val_loss: 0.0612\n",
            "Epoch 41/50\n",
            " - 0s - loss: 0.0586 - val_loss: 0.0559\n",
            "Epoch 42/50\n",
            " - 0s - loss: 0.0621 - val_loss: 0.0593\n",
            "Epoch 43/50\n",
            " - 0s - loss: 0.0622 - val_loss: 0.0585\n",
            "Epoch 44/50\n",
            " - 0s - loss: 0.0593 - val_loss: 0.0544\n",
            "Epoch 45/50\n",
            " - 0s - loss: 0.0581 - val_loss: 0.0565\n",
            "Epoch 46/50\n",
            " - 0s - loss: 0.0616 - val_loss: 0.0644\n",
            "Epoch 47/50\n",
            " - 0s - loss: 0.0590 - val_loss: 0.0578\n",
            "Epoch 48/50\n",
            " - 0s - loss: 0.0571 - val_loss: 0.0574\n",
            "Epoch 49/50\n",
            " - 0s - loss: 0.0593 - val_loss: 0.0536\n",
            "Epoch 50/50\n",
            " - 0s - loss: 0.0589 - val_loss: 0.0575\n"
          ],
          "name": "stdout"
        }
      ]
    },
    {
      "cell_type": "code",
      "metadata": {
        "id": "65za-Dl4Hc42",
        "colab_type": "code",
        "colab": {}
      },
      "source": [
        "yhat = model.predict(x_test)"
      ],
      "execution_count": 0,
      "outputs": []
    },
    {
      "cell_type": "code",
      "metadata": {
        "id": "8udwTWCmHpii",
        "colab_type": "code",
        "colab": {}
      },
      "source": [
        "res = sc.inverse_transform(yhat)\n",
        "ori = sc.inverse_transform(y_test)"
      ],
      "execution_count": 0,
      "outputs": []
    },
    {
      "cell_type": "code",
      "metadata": {
        "id": "dhS_vTtSHulQ",
        "colab_type": "code",
        "colab": {
          "base_uri": "https://localhost:8080/",
          "height": 1000
        },
        "outputId": "94ccbe68-6df6-4c46-9e0a-93f820153094"
      },
      "source": [
        "for i in range(len(x_test)):\n",
        "    print(res[i], ori[i])"
      ],
      "execution_count": 19,
      "outputs": [
        {
          "output_type": "stream",
          "text": [
            "[1.0199527  0.5692991  0.45082003 0.39076796] [0.92857146 0.6730769  0.42975205 0.40277776]\n",
            "[1.0020282  0.60692126 0.44612122 0.3938034 ] [1.         0.6442308  0.5041322  0.41666666]\n",
            "[0.99769413 0.7823317  0.3871476  0.43180674] [1.         0.8365385  0.3471074  0.33333334]\n",
            "[0.99518424 0.79147846 0.366893   0.3921196 ] [1.         0.7596155  0.40495867 0.38888887]\n",
            "[0.99612164 0.7561759  0.38041323 0.40675282] [1.         0.8269231  0.23966944 0.22222224]\n",
            "[0.99430585 0.77810633 0.3287169  0.33049223] [1.         0.9134616  0.30578512 0.23611107]\n",
            "[0.9918079  0.8221534  0.3196232  0.29316267] [1.         0.9038462  0.23966944 0.29166666]\n",
            "[0.9915133  0.8294432  0.30332223 0.29229635] [1.         0.75000006 0.3305785  0.37499997]\n",
            "[0.9924363  0.76361334 0.32493943 0.3419517 ] [1.         0.8173078  0.28925622 0.37499997]\n",
            "[0.99446976 0.7649801  0.3230484  0.34923398] [1.         0.8269231  0.21487606 0.26388887]\n",
            "[0.99347967 0.7771802  0.28892496 0.3095012 ] [1.         0.87500006 0.3140496  0.40277776]\n",
            "[0.99325734 0.7934538  0.30568817 0.3432201 ] [1.         0.73076934 0.25619835 0.36111107]\n",
            "[0.9942233  0.74160063 0.2987866  0.35931262] [1.         0.7115385  0.23966944 0.34722224]\n",
            "[0.99569273 0.7119174  0.28696784 0.35688463] [1.         0.7596155  0.16528925 0.19444445]\n",
            "[0.99433607 0.7272413  0.24781731 0.28666142] [1.         0.73076934 0.20661157 0.625     ]\n",
            "[1.0026782  0.6866461  0.27614573 0.4134553 ] [1.         0.74038464 0.18181819 0.22222224]\n",
            "[0.99528587 0.7075523  0.23176713 0.3222686 ] [1.         0.7596155  0.20661157 0.125     ]\n",
            "[0.99045247 0.7297735  0.21434116 0.24694118] [1.         0.74038464 0.24793386 0.16666666]\n",
            "[0.98856235 0.7226676  0.22201912 0.22322567] [1.         0.7019231  0.18181819 0.15277776]\n",
            "[0.9880518  0.70224446 0.21397291 0.20277296] [1.         0.6730769  0.09917358 0.13888887]\n",
            "[0.98785824 0.680005   0.18954606 0.17928985] [1.         0.7115385  0.14876035 0.19444445]\n",
            "[0.9880509  0.6810824  0.19101474 0.18313514] [1.         0.75000006 0.20661157 0.29166666]\n",
            "[0.99112165 0.6902248  0.21585251 0.2136432 ] [1.         0.6923078  0.26446283 0.36111107]\n",
            "[0.99381226 0.66890967 0.24661179 0.2722209 ] [1.         0.6346155  0.22314048 0.19444445]\n",
            "[0.99230033 0.6494025  0.23571226 0.24621515] [1.         0.85576934 0.18181819 0.23611107]\n",
            "[0.99356395 0.72667736 0.22381543 0.22445889] [1.         0.74038464 0.14049587 0.15277776]\n",
            "[0.9909447  0.72041017 0.20062295 0.19976018] [1.         0.7980769  0.10743803 0.16666666]\n",
            "[0.98946565 0.7411353  0.18387876 0.18338099] [1.         0.80769235 0.18181819 0.15277776]\n",
            "[0.98603755 0.75660187 0.18769793 0.17261244] [1.         0.7692308  0.23966944 0.16666666]\n",
            "[0.98414624 0.7465592  0.20641853 0.17814216] [1.         0.74038464 0.19008267 0.125     ]\n",
            "[0.98341304 0.7323655  0.20302325 0.16302873] [1.         0.7692308  0.30578512 0.23611107]\n",
            "[0.9843653  0.73154163 0.24324211 0.20175499] [1.         0.7788462  0.28099173 0.16666666]\n",
            "[0.9867978  0.73864543 0.25588784 0.19338854] [1.         0.7692308  0.17355374 0.15277776]\n",
            "[0.98921037 0.73862916 0.24100944 0.18237257] [1.         0.7980769  0.23966944 0.27777776]\n",
            "[0.99246097 0.7421892  0.26199487 0.22273824] [1.         0.7692308  0.21487606 0.13888887]\n",
            "[0.9907317  0.74374187 0.24767369 0.19471794] [1.         0.74038464 0.17355374 0.125     ]\n",
            "[0.9895649  0.73210734 0.22954708 0.17552954] [1.         0.6730769  0.25619835 0.23611107]\n",
            "[0.99050707 0.6898227  0.25284037 0.21564646] [1.         0.62500006 0.27272725 0.36111107]\n",
            "[0.994835   0.64037603 0.27763247 0.28048074] [1.         0.7692308  0.26446283 0.31944445]\n",
            "[0.9966282  0.6843956  0.2783841  0.28204906] [1.         0.8269231  0.25619835 0.34722224]\n",
            "[0.9987845 0.727155  0.2824064 0.2969878] [1.         0.7692308  0.25619835 0.27777776]\n",
            "[0.9975551  0.7288413  0.27670643 0.289401  ] [1.         0.7692308  0.23966944 0.26388887]\n",
            "[0.9964231  0.73131347 0.26937696 0.28281784] [0.92857146 0.7019231  0.23140496 0.24999997]\n",
            "[1.0296096  0.33061686 0.58869314 0.6242915 ] [1.        0.3365385 0.6694215 0.7083334]\n",
            "[1.0246577 0.3674045 0.6139575 0.6249377] [1.         0.26923078 0.38016528 0.5833334 ]\n",
            "[1.0299941  0.33951506 0.54419625 0.58425415] [1.         0.25000006 0.5371901  0.48611107]\n",
            "[1.0259275  0.32984814 0.53196496 0.54165715] [1.         0.6442308  0.5785124  0.45833334]\n",
            "[1.0213916  0.48606002 0.5266962  0.47438654] [1.         0.6442308  0.5371901  0.34722224]\n",
            "[1.020139   0.5596493  0.5140158  0.42504025] [1.         0.6538462  0.60330576 0.44444445]\n",
            "[1.0214821 0.5879648 0.5376561 0.4435405] [1.         0.9711539  0.5206612  0.37499997]\n",
            "[1.0142899  0.75191444 0.52533495 0.39264908] [1.         0.6730769  0.58677685 0.37499997]\n",
            "[1.013554   0.6936933  0.5418837  0.42157015] [1.         0.5480769  0.47107434 0.34722224]\n",
            "[1.0148385  0.62059367 0.5340844  0.42348632] [1.         0.38461536 0.5289256  0.38888887]\n",
            "[1.0164711 0.5190044 0.5452901 0.4492729] [1.         0.68269235 0.5041322  0.41666666]\n",
            "[1.0164192  0.5980647  0.53407526 0.4207492 ] [1.         0.01923078 0.7107438  0.5972222 ]\n",
            "[1.0260514  0.3370963  0.6100697  0.56582284] [1.         0.3365385  0.4876033  0.36111107]\n",
            "[1.0177505  0.37648058 0.5564227  0.4643317 ] [1.         0.26923078 0.41322315 0.33333334]\n",
            "[1.0226     0.34713808 0.51599884 0.41812423] [1.         0.25000006 0.44628096 0.31944445]\n",
            "[1.0208704  0.32342318 0.49351743 0.38809124] [1.         0.30769235 0.42975205 0.30555555]\n",
            "[1.0194924  0.33303165 0.47577274 0.35741752] [1.         0.3173077  0.43801653 0.29166666]\n"
          ],
          "name": "stdout"
        }
      ]
    }
  ]
}